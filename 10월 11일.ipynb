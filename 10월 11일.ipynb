{
 "cells": [
  {
   "cell_type": "code",
   "execution_count": 52,
   "metadata": {},
   "outputs": [],
   "source": [
    "def sigmoid(x):\n",
    "    return 1/(1+np.exp(-x))"
   ]
  },
  {
   "cell_type": "code",
   "execution_count": 53,
   "metadata": {},
   "outputs": [],
   "source": [
    "def hypo(theta,X):\n",
    "    hypo= np.dot(X,theta) #hypo = [2000X1]\n",
    "    return sigmoid(hypo)"
   ]
  },
  {
   "cell_type": "code",
   "execution_count": 54,
   "metadata": {},
   "outputs": [],
   "source": [
    "m,n = X.shape\n",
    "def costFunction(theta,X,y):\n",
    "    cost = (-1/m) * sum(np.multiply(y, np.log(hypo(theta,X)))+ np.multiply((1-y), np.log(1-hypo(theta,X))))\n",
    "    #print(cost) \n",
    "    return cost"
   ]
  },
  {
   "cell_type": "code",
   "execution_count": 55,
   "metadata": {},
   "outputs": [],
   "source": [
    "m,n = X.shape\n",
    "def gradient_descent(theta,X,y,alpha=0.01):\n",
    "    errors = hypo(theta,X) - y #[2000x1]\n",
    "    temp = 1/m * errors.T * X #[1x3]\n",
    "    theta -= alpha*temp  #\n",
    "    return theta\n",
    " \n",
    "#print('Gradient at initial theta : \\n')\n",
    "#print('%s'%grad)"
   ]
  },
  {
   "cell_type": "code",
   "execution_count": 56,
   "metadata": {},
   "outputs": [],
   "source": [
    "def train(theta,X,y,alpha,iterations):\n",
    "    list_cost=[]\n",
    "    for i in range(iterations):\n",
    "        predict = hypo(theta,X) #[]\n",
    "        theta = gradient_descent(theta,X,y,alpha)\n",
    "        cost = costFunction(theta,X,y)\n",
    "        list_cost.append(cost)\n",
    "    print(\"Final cost list : \",list_cost)\n",
    "    return theta,list_cost"
   ]
  },
  {
   "cell_type": "code",
   "execution_count": 58,
   "metadata": {},
   "outputs": [
    {
     "ename": "ValueError",
     "evalue": "non-broadcastable output operand with shape (3,1) doesn't match the broadcast shape (3,3)",
     "output_type": "error",
     "traceback": [
      "\u001b[1;31m---------------------------------------------------------------------------\u001b[0m",
      "\u001b[1;31mValueError\u001b[0m                                Traceback (most recent call last)",
      "\u001b[1;32m<ipython-input-58-4a77486885a3>\u001b[0m in \u001b[0;36m<module>\u001b[1;34m\u001b[0m\n\u001b[1;32m----> 1\u001b[1;33m \u001b[0mtrain\u001b[0m\u001b[1;33m(\u001b[0m\u001b[0minitial_theta\u001b[0m\u001b[1;33m,\u001b[0m\u001b[0mX\u001b[0m\u001b[1;33m,\u001b[0m\u001b[0my\u001b[0m\u001b[1;33m,\u001b[0m\u001b[0malpha\u001b[0m\u001b[1;33m=\u001b[0m\u001b[1;36m0.01\u001b[0m\u001b[1;33m,\u001b[0m\u001b[0miterations\u001b[0m\u001b[1;33m=\u001b[0m\u001b[1;36m1000\u001b[0m\u001b[1;33m)\u001b[0m\u001b[1;33m\u001b[0m\u001b[1;33m\u001b[0m\u001b[0m\n\u001b[0m",
      "\u001b[1;32m<ipython-input-56-0c64646a343d>\u001b[0m in \u001b[0;36mtrain\u001b[1;34m(theta, X, y, alpha, iterations)\u001b[0m\n\u001b[0;32m      3\u001b[0m     \u001b[1;32mfor\u001b[0m \u001b[0mi\u001b[0m \u001b[1;32min\u001b[0m \u001b[0mrange\u001b[0m\u001b[1;33m(\u001b[0m\u001b[0miterations\u001b[0m\u001b[1;33m)\u001b[0m\u001b[1;33m:\u001b[0m\u001b[1;33m\u001b[0m\u001b[1;33m\u001b[0m\u001b[0m\n\u001b[0;32m      4\u001b[0m         \u001b[0mpredict\u001b[0m \u001b[1;33m=\u001b[0m \u001b[0mhypo\u001b[0m\u001b[1;33m(\u001b[0m\u001b[0mtheta\u001b[0m\u001b[1;33m,\u001b[0m\u001b[0mX\u001b[0m\u001b[1;33m)\u001b[0m\u001b[1;33m\u001b[0m\u001b[1;33m\u001b[0m\u001b[0m\n\u001b[1;32m----> 5\u001b[1;33m         \u001b[0mtheta\u001b[0m \u001b[1;33m=\u001b[0m \u001b[0mgradient_descent\u001b[0m\u001b[1;33m(\u001b[0m\u001b[0mtheta\u001b[0m\u001b[1;33m,\u001b[0m\u001b[0mX\u001b[0m\u001b[1;33m,\u001b[0m\u001b[0my\u001b[0m\u001b[1;33m,\u001b[0m\u001b[0malpha\u001b[0m\u001b[1;33m)\u001b[0m\u001b[1;33m\u001b[0m\u001b[1;33m\u001b[0m\u001b[0m\n\u001b[0m\u001b[0;32m      6\u001b[0m         \u001b[0mcost\u001b[0m \u001b[1;33m=\u001b[0m \u001b[0mcostFunction\u001b[0m\u001b[1;33m(\u001b[0m\u001b[0mtheta\u001b[0m\u001b[1;33m,\u001b[0m\u001b[0mX\u001b[0m\u001b[1;33m,\u001b[0m\u001b[0my\u001b[0m\u001b[1;33m)\u001b[0m\u001b[1;33m\u001b[0m\u001b[1;33m\u001b[0m\u001b[0m\n\u001b[0;32m      7\u001b[0m         \u001b[0mlist_cost\u001b[0m\u001b[1;33m.\u001b[0m\u001b[0mappend\u001b[0m\u001b[1;33m(\u001b[0m\u001b[0mcost\u001b[0m\u001b[1;33m)\u001b[0m\u001b[1;33m\u001b[0m\u001b[1;33m\u001b[0m\u001b[0m\n",
      "\u001b[1;32m<ipython-input-55-2f3b8c34b66f>\u001b[0m in \u001b[0;36mgradient_descent\u001b[1;34m(theta, X, y, alpha)\u001b[0m\n\u001b[0;32m      3\u001b[0m     \u001b[0merrors\u001b[0m \u001b[1;33m=\u001b[0m \u001b[0mhypo\u001b[0m\u001b[1;33m(\u001b[0m\u001b[0mtheta\u001b[0m\u001b[1;33m,\u001b[0m\u001b[0mX\u001b[0m\u001b[1;33m)\u001b[0m \u001b[1;33m-\u001b[0m \u001b[0my\u001b[0m\u001b[1;33m\u001b[0m\u001b[1;33m\u001b[0m\u001b[0m\n\u001b[0;32m      4\u001b[0m     \u001b[0mtemp\u001b[0m \u001b[1;33m=\u001b[0m \u001b[1;36m1\u001b[0m\u001b[1;33m/\u001b[0m\u001b[0mm\u001b[0m \u001b[1;33m*\u001b[0m \u001b[0merrors\u001b[0m\u001b[1;33m.\u001b[0m\u001b[0mT\u001b[0m \u001b[1;33m*\u001b[0m \u001b[0mX\u001b[0m\u001b[1;33m\u001b[0m\u001b[1;33m\u001b[0m\u001b[0m\n\u001b[1;32m----> 5\u001b[1;33m     \u001b[0mtheta\u001b[0m \u001b[1;33m-=\u001b[0m \u001b[0malpha\u001b[0m\u001b[1;33m*\u001b[0m\u001b[0mtemp\u001b[0m\u001b[1;33m\u001b[0m\u001b[1;33m\u001b[0m\u001b[0m\n\u001b[0m\u001b[0;32m      6\u001b[0m     \u001b[1;32mreturn\u001b[0m \u001b[0mtheta\u001b[0m\u001b[1;33m\u001b[0m\u001b[1;33m\u001b[0m\u001b[0m\n\u001b[0;32m      7\u001b[0m \u001b[1;33m\u001b[0m\u001b[0m\n",
      "\u001b[1;31mValueError\u001b[0m: non-broadcastable output operand with shape (3,1) doesn't match the broadcast shape (3,3)"
     ]
    }
   ],
   "source": [
    "train(initial_theta,X,y,alpha=0.01,iterations=1000)"
   ]
  },
  {
   "cell_type": "code",
   "execution_count": null,
   "metadata": {},
   "outputs": [],
   "source": []
  },
  {
   "cell_type": "code",
   "execution_count": null,
   "metadata": {},
   "outputs": [],
   "source": []
  },
  {
   "cell_type": "code",
   "execution_count": 59,
   "metadata": {},
   "outputs": [],
   "source": [
    "import random\n",
    "import pandas as pd\n",
    "import matplotlib.pyplot as plt\n",
    "%matplotlib inline\n",
    "import numpy as np\n",
    "from numpy import matrix\n",
    "\n",
    "train = pd.read_csv('train.csv')\n",
    "X1= train[\"x1\"]\n",
    "X2 = train[\"x2\"]\n",
    "y=train[\"y\"]\n",
    "X=pd.concat([X1, X2],axis=1)\n",
    "\n",
    "X=np.array(X)\n",
    "y=np.array(y)"
   ]
  },
  {
   "cell_type": "code",
   "execution_count": 60,
   "metadata": {},
   "outputs": [
    {
     "name": "stdout",
     "output_type": "stream",
     "text": [
      "[[-0.11409821  0.54276209]\n",
      " [ 2.17240497  1.42969436]\n",
      " [-1.09561292  0.66390311]\n",
      " ...\n",
      " [ 2.1043933   1.89778426]\n",
      " [-0.57418837  1.36457791]\n",
      " [ 1.8085673   1.77157905]]\n"
     ]
    },
    {
     "data": {
      "image/png": "[encoded data removed]",
      "text/plain": [
       "<Figure size 432x288 with 1 Axes>"
      ]
     },
     "metadata": {
      "needs_background": "light"
     },
     "output_type": "display_data"
    }
   ],
   "source": [
    "def plotData(X, y):\n",
    "    # 아래와 같이 사용하지 않는다.\n",
    "    # pos = (y == 1)\n",
    "    # neg = (y == 0)\n",
    "    pos = np.nonzero(y == 1) # Admitted\n",
    "    neg = np.nonzero(y == 0)\n",
    "\n",
    "    plt.plot(X[pos, 0], X[pos, 1], 'k+', label='1')\n",
    "    plt.plot(X[neg, 0], X[neg, 1], 'ko', color='y', label='0')\n",
    "    \n",
    "plotData(X, y)\n",
    "\n",
    "plt.xlabel('x1')\n",
    "plt.ylabel('x2')\n",
    "plt.legend(('1', '0'), loc='lower right')\n",
    "print(X)"
   ]
  },
  {
   "cell_type": "code",
   "execution_count": 61,
   "metadata": {},
   "outputs": [
    {
     "name": "stdout",
     "output_type": "stream",
     "text": [
      "[[ 1.         -0.11409821  0.54276209]\n",
      " [ 1.          2.17240497  1.42969436]\n",
      " [ 1.         -1.09561292  0.66390311]\n",
      " ...\n",
      " [ 1.          2.1043933   1.89778426]\n",
      " [ 1.         -0.57418837  1.36457791]\n",
      " [ 1.          1.8085673   1.77157905]]\n",
      "(2000, 3)\n",
      "\n",
      "\n",
      "[[0.]\n",
      " [0.]\n",
      " [0.]]\n",
      "(3, 1)\n"
     ]
    }
   ],
   "source": [
    "m,n=np.shape(X)\n",
    "X=np.hstack((np.ones((m,1)),X))\n",
    "print(X)\n",
    "X = np.matrix(X)\n",
    "#print(X)\n",
    "print(X.shape)\n",
    "\n",
    "y = y.reshape((m, 1))\n",
    "y = np.matrix(y)\n",
    "#print(y)\n",
    "initial_theta=np.zeros((n+1,1))\n",
    "initial_theta=np.matrix(initial_theta)\n",
    "print(\"\\n\")\n",
    "print(initial_theta)\n",
    "print(initial_theta.shape)"
   ]
  },
  {
   "cell_type": "code",
   "execution_count": 62,
   "metadata": {},
   "outputs": [],
   "source": [
    "def sigmoid(x):\n",
    "    return 1/(1+np.exp(-x))"
   ]
  },
  {
   "cell_type": "code",
   "execution_count": 63,
   "metadata": {
    "scrolled": true
   },
   "outputs": [
    {
     "name": "stdout",
     "output_type": "stream",
     "text": [
      "(2000, 1)\n"
     ]
    },
    {
     "data": {
      "text/plain": [
       "'\\ndef costFunction(theta,X,y):\\n    cost = (-1/m) * sum(np.multiply(y, np.log(hypo(theta,X)))+ np.multiply((1-y), np.log(1-hypo(theta,X))))\\n    #print(cost) \\n    return cost\\n'"
      ]
     },
     "execution_count": 63,
     "metadata": {},
     "output_type": "execute_result"
    }
   ],
   "source": [
    "m,n = X.shape\n",
    "\n",
    "y_pred = sigmoid(X*initial_theta) #[2000x1]\n",
    "print(y_pred.shape)\n",
    "\n",
    "'''\n",
    "def costFunction(theta,X,y):\n",
    "    cost = (-1/m) * sum(np.multiply(y, np.log(hypo(theta,X)))+ np.multiply((1-y), np.log(1-hypo(theta,X))))\n",
    "    #print(cost) \n",
    "    return cost\n",
    "'''"
   ]
  },
  {
   "cell_type": "code",
   "execution_count": null,
   "metadata": {},
   "outputs": [],
   "source": []
  },
  {
   "cell_type": "code",
   "execution_count": null,
   "metadata": {},
   "outputs": [],
   "source": []
  },
  {
   "cell_type": "markdown",
   "metadata": {},
   "source": [
    "# start\n"
   ]
  },
  {
   "cell_type": "code",
   "execution_count": 1,
   "metadata": {
    "ExecuteTime": {
     "end_time": "2021-10-11T10:10:20.744824Z",
     "start_time": "2021-10-11T10:10:19.675990Z"
    }
   },
   "outputs": [],
   "source": [
    "import random\n",
    "import pandas as pd\n",
    "import matplotlib.pyplot as plt\n",
    "%matplotlib inline\n",
    "import numpy as np\n",
    "from numpy import matrix\n",
    "\n",
    "train = pd.read_csv('train.csv')\n",
    "X1= train[\"x1\"]\n",
    "X2 = train[\"x2\"]\n",
    "y=train[\"y\"]\n",
    "X=pd.concat([X1, X2],axis=1)\n",
    "\n",
    "X=np.array(X)\n",
    "y=np.array(y)"
   ]
  },
  {
   "cell_type": "code",
   "execution_count": 2,
   "metadata": {
    "ExecuteTime": {
     "end_time": "2021-10-11T10:10:23.135475Z",
     "start_time": "2021-10-11T10:10:21.409779Z"
    }
   },
   "outputs": [
    {
     "name": "stdout",
     "output_type": "stream",
     "text": [
      "[[-0.11409821  0.54276209]\n",
      " [ 2.17240497  1.42969436]\n",
      " [-1.09561292  0.66390311]\n",
      " ...\n",
      " [ 2.1043933   1.89778426]\n",
      " [-0.57418837  1.36457791]\n",
      " [ 1.8085673   1.77157905]]\n"
     ]
    },
    {
     "data": {
      "image/png": "[encoded data removed]",
      "text/plain": [
       "<Figure size 432x288 with 1 Axes>"
      ]
     },
     "metadata": {
      "needs_background": "light"
     },
     "output_type": "display_data"
    }
   ],
   "source": [
    "def plotData(X, y):\n",
    "    # 아래와 같이 사용하지 않는다.\n",
    "    # pos = (y == 1)\n",
    "    # neg = (y == 0)\n",
    "    pos = np.nonzero(y == 1) # Admitted\n",
    "    neg = np.nonzero(y == 0)\n",
    "\n",
    "    plt.plot(X[pos, 0], X[pos, 1], 'k+', label='1')\n",
    "    plt.plot(X[neg, 0], X[neg, 1], 'ko', color='y', label='0')\n",
    "    \n",
    "plotData(X, y)\n",
    "\n",
    "plt.xlabel('x1')\n",
    "plt.ylabel('x2')\n",
    "plt.legend(('1', '0'), loc='lower right')\n",
    "print(X)"
   ]
  },
  {
   "cell_type": "code",
   "execution_count": 3,
   "metadata": {
    "ExecuteTime": {
     "end_time": "2021-10-11T10:10:24.677337Z",
     "start_time": "2021-10-11T10:10:24.671070Z"
    }
   },
   "outputs": [
    {
     "name": "stdout",
     "output_type": "stream",
     "text": [
      "[[ 1.         -0.11409821  0.54276209]\n",
      " [ 1.          2.17240497  1.42969436]\n",
      " [ 1.         -1.09561292  0.66390311]\n",
      " ...\n",
      " [ 1.          2.1043933   1.89778426]\n",
      " [ 1.         -0.57418837  1.36457791]\n",
      " [ 1.          1.8085673   1.77157905]]\n",
      "\n",
      "\n",
      "[[0.]\n",
      " [0.]\n",
      " [0.]]\n"
     ]
    }
   ],
   "source": [
    "m,n=np.shape(X)\n",
    "X=np.hstack((np.ones((m,1)),X))\n",
    "print(X)\n",
    "X = np.matrix(X)\n",
    "#print(X)\n",
    "\n",
    "\n",
    "y = y.reshape((m, 1))\n",
    "y = np.matrix(y)\n",
    "#print(y)\n",
    "initial_theta=np.zeros((n+1,1))\n",
    "initial_theta=np.matrix(initial_theta)\n",
    "print(\"\\n\")\n",
    "print(initial_theta)\n"
   ]
  },
  {
   "cell_type": "code",
   "execution_count": 4,
   "metadata": {
    "ExecuteTime": {
     "end_time": "2021-10-11T10:10:28.974027Z",
     "start_time": "2021-10-11T10:10:28.969818Z"
    }
   },
   "outputs": [],
   "source": [
    "def sigmoid(x):\n",
    "    return 1/(1+np.exp(-x))"
   ]
  },
  {
   "cell_type": "code",
   "execution_count": 8,
   "metadata": {
    "ExecuteTime": {
     "end_time": "2021-10-11T10:17:39.957797Z",
     "start_time": "2021-10-11T10:17:39.953590Z"
    }
   },
   "outputs": [],
   "source": [
    "m,n = X.shape\n",
    "def costFunction(theta,X,y):\n",
    "    y_pred = sigmoid(np.dot(X,theta)) #[2000x1]\n",
    "    cost = (-1/m) * sum(np.multiply(y, np.log(y_pred))+ np.multiply((1-y), np.log(1-y_pred)))\n",
    "    \n",
    "    grad = (1/m)*np.dot(X.transpose(),(y_pred-y))\n",
    "    return cost, grad"
   ]
  },
  {
   "cell_type": "code",
   "execution_count": 15,
   "metadata": {
    "ExecuteTime": {
     "end_time": "2021-10-11T10:21:21.969366Z",
     "start_time": "2021-10-11T10:21:21.954714Z"
    }
   },
   "outputs": [],
   "source": [
    "cost, grad = costFunction(initial_theta,X,y)"
   ]
  },
  {
   "cell_type": "code",
   "execution_count": 16,
   "metadata": {
    "ExecuteTime": {
     "end_time": "2021-10-11T10:21:23.852389Z",
     "start_time": "2021-10-11T10:21:23.849189Z"
    }
   },
   "outputs": [
    {
     "name": "stdout",
     "output_type": "stream",
     "text": [
      "Cost of initial theta is [[0.69314718]]\n",
      "Gradient at initial theta (zeros): [[0.        ]\n",
      " [0.75113139]\n",
      " [0.24558093]]\n"
     ]
    }
   ],
   "source": [
    "print(\"Cost of initial theta is\",cost)\n",
    "print(\"Gradient at initial theta (zeros):\",grad)"
   ]
  },
  {
   "cell_type": "markdown",
   "metadata": {},
   "source": [
    "now for the optimizing algorithm, "
   ]
  },
  {
   "cell_type": "code",
   "execution_count": 17,
   "metadata": {
    "ExecuteTime": {
     "end_time": "2021-10-11T10:21:45.570362Z",
     "start_time": "2021-10-11T10:21:45.566871Z"
    }
   },
   "outputs": [],
   "source": [
    "def gradient_Descent(theta,X,y,alpha, max_cnt):\n",
    "    costs_list = []\n",
    "    for i in range(max_cnt):\n",
    "        cost, grad = costFunction(theta,X,y)\n",
    "        theta = theta - (alpha*grad)\n",
    "        costs_list.append(cost)\n",
    "    return theta"
   ]
  },
  {
   "cell_type": "code",
   "execution_count": 18,
   "metadata": {
    "ExecuteTime": {
     "end_time": "2021-10-11T10:21:55.155732Z",
     "start_time": "2021-10-11T10:21:46.134132Z"
    }
   },
   "outputs": [
    {
     "name": "stdout",
     "output_type": "stream",
     "text": [
      "[[ 0.55068346]\n",
      " [-1.62420151]\n",
      " [-0.41289176]]\n"
     ]
    }
   ],
   "source": [
    "theta = gradient_Descent(initial_theta,X,y,alpha=0.01,max_cnt=1000)\n",
    "print(theta)"
   ]
  },
  {
   "cell_type": "code",
   "execution_count": null,
   "metadata": {},
   "outputs": [],
   "source": []
  },
  {
   "cell_type": "code",
   "execution_count": 24,
   "metadata": {
    "ExecuteTime": {
     "end_time": "2021-10-11T11:09:10.582932Z",
     "start_time": "2021-10-11T11:09:08.430707Z"
    }
   },
   "outputs": [
    {
     "name": "stdout",
     "output_type": "stream",
     "text": [
      "plot_x\n",
      "[-5.74312095  6.82604619]\n",
      "<class 'numpy.ndarray'>\n",
      "plot_y\n",
      "[ 23.9255662  -25.51804624]\n",
      "<class 'numpy.ndarray'>\n"
     ]
    },
    {
     "data": {
      "text/plain": [
       "<matplotlib.legend.Legend at 0x7f7f11ede4c0>"
      ]
     },
     "execution_count": 24,
     "metadata": {},
     "output_type": "execute_result"
    },
    {
     "data": {
      "image/png": "[encoded data removed]",
      "text/plain": [
       "<Figure size 432x288 with 1 Axes>"
      ]
     },
     "metadata": {
      "needs_background": "light"
     },
     "output_type": "display_data"
    }
   ],
   "source": [
    "pos = np.nonzero(y == 1) # Admitted\n",
    "neg = np.nonzero(y == 0)\n",
    "\n",
    "plt.plot(X[pos, 0], X[pos, 1], 'k+', label='1')\n",
    "plt.plot(X[neg, 0], X[neg, 1], 'ko', color='y', label='0')\n",
    "    \n",
    "\n",
    "plt.xlabel('x1')\n",
    "plt.ylabel('x2')\n",
    "plt.legend(('1', '0'), loc='lower right')\n",
    "\n",
    "plot_x = np.array([np.min(X[:, 1]) - 2, np.max(X[:, 1] + 2)])\n",
    "print(\"plot_x\")\n",
    "print(plot_x)\n",
    "print(type(plot_x))\n",
    "        # ***************************************************************\n",
    "        # decision boundary line을 계산한다.\n",
    "        # XXX: 왜 아래와 같은 수식이 사용되는지 잘 모르겠다.\n",
    "        # ***************************************************************\n",
    "plot_y = (-1 / theta[2]) * (theta[1] * plot_x + theta[0])\n",
    "\n",
    "plot_y = np.asarray(plot_y).flatten()\n",
    "\n",
    "print(\"plot_y\")\n",
    "print(plot_y)\n",
    "print(type(plot_y))\n",
    "        # plot을 그린다.\n",
    "plt.plot(plot_x, plot_y)\n",
    "\n",
    "        \n",
    "        # Legend를 표시한다.\n",
    "plt.legend(('Admitted', 'Not admitted'), loc='upper right')"
   ]
  },
  {
   "cell_type": "code",
   "execution_count": 25,
   "metadata": {
    "ExecuteTime": {
     "end_time": "2021-10-11T11:10:34.871209Z",
     "start_time": "2021-10-11T11:10:32.586874Z"
    }
   },
   "outputs": [
    {
     "name": "stdout",
     "output_type": "stream",
     "text": [
      "[[ 1.         -0.11409821  0.54276209]\n",
      " [ 1.          2.17240497  1.42969436]\n",
      " [ 1.         -1.09561292  0.66390311]\n",
      " ...\n",
      " [ 1.          2.1043933   1.89778426]\n",
      " [ 1.         -0.57418837  1.36457791]\n",
      " [ 1.          1.8085673   1.77157905]]\n"
     ]
    },
    {
     "data": {
      "image/png": "[encoded data removed]",
      "text/plain": [
       "<Figure size 432x288 with 1 Axes>"
      ]
     },
     "metadata": {
      "needs_background": "light"
     },
     "output_type": "display_data"
    }
   ],
   "source": [
    "def plotData(X, y):\n",
    "    # 아래와 같이 사용하지 않는다.\n",
    "    # pos = (y == 1)\n",
    "    # neg = (y == 0)\n",
    "    pos = np.nonzero(y == 1) # Admitted\n",
    "    neg = np.nonzero(y == 0)\n",
    "\n",
    "    plt.plot(X[pos, 0], X[pos, 1], 'k+', label='1')\n",
    "    plt.plot(X[neg, 0], X[neg, 1], 'ko', color='y', label='0')\n",
    "    \n",
    "plotData(X, y)\n",
    "\n",
    "plt.xlabel('x1')\n",
    "plt.ylabel('x2')\n",
    "plt.legend(('1', '0'), loc='lower right')\n",
    "print(X)"
   ]
  },
  {
   "cell_type": "code",
   "execution_count": null,
   "metadata": {},
   "outputs": [],
   "source": []
  }
 ],
 "metadata": {
  "hide_input": false,
  "kernelspec": {
   "display_name": "Python 3 (ipykernel)",
   "language": "python",
   "name": "python3"
  },
  "language_info": {
   "codemirror_mode": {
    "name": "ipython",
    "version": 3
   },
   "file_extension": ".py",
   "mimetype": "text/x-python",
   "name": "python",
   "nbconvert_exporter": "python",
   "pygments_lexer": "ipython3",
   "version": "3.8.8"
  },
  "varInspector": {
   "cols": {
    "lenName": 16,
    "lenType": 16,
    "lenVar": 40
   },
   "kernels_config": {
    "python": {
     "delete_cmd_postfix": "",
     "delete_cmd_prefix": "del ",
     "library": "var_list.py",
     "varRefreshCmd": "print(var_dic_list())"
    },
    "r": {
     "delete_cmd_postfix": ") ",
     "delete_cmd_prefix": "rm(",
     "library": "var_list.r",
     "varRefreshCmd": "cat(var_dic_list()) "
    }
   },
   "types_to_exclude": [
    "module",
    "function",
    "builtin_function_or_method",
    "instance",
    "_Feature"
   ],
   "window_display": false
  }
 },
 "nbformat": 4,
 "nbformat_minor": 4
}
