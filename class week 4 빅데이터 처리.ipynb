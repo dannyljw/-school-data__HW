{
 "cells": [
  {
   "cell_type": "code",
   "execution_count": 4,
   "id": "1287c60f",
   "metadata": {
    "ExecuteTime": {
     "end_time": "2021-10-14T14:06:58.417546Z",
     "start_time": "2021-10-14T14:06:58.359475Z"
    }
   },
   "outputs": [],
   "source": [
    "from sklearn.feature_extraction.text import TfidfVectorizer\n",
    "from sklearn.metrics.pairwise import cosine_similarity"
   ]
  },
  {
   "cell_type": "code",
   "execution_count": 10,
   "id": "5b9f18f5",
   "metadata": {
    "ExecuteTime": {
     "end_time": "2021-10-14T14:08:54.317019Z",
     "start_time": "2021-10-14T14:08:54.305658Z"
    }
   },
   "outputs": [
    {
     "name": "stdout",
     "output_type": "stream",
     "text": [
      "{'dankook': 2, 'university': 14, 'is': 5, 'located': 7, 'in': 4, 'jukjeon': 6, 'yongin': 16, 'si': 10, 'there': 13, 'are': 0, 'students': 12, 'majoring': 9, 'software': 11, 'at': 1, 'who': 15, 'double': 3, 'major': 8}\n",
      "[1.28768207 1.28768207 1.         1.69314718 1.         1.69314718\n",
      " 1.69314718 1.69314718 1.69314718 1.69314718 1.69314718 1.28768207\n",
      " 1.28768207 1.28768207 1.         1.69314718 1.69314718]\n",
      "This is cosine similarity matrix\n",
      "[[1.         0.19150663 0.16156537]\n",
      " [0.19150663 1.         0.67282141]\n",
      " [0.16156537 0.67282141 1.        ]]\n"
     ]
    }
   ],
   "source": [
    "text = [\"Dankook University is located in Jukjeon, Yongin-si.\",\n",
    "        \"There are students majoring in software at Dankook University\",\n",
    "        \"There are students who double major in software at Dankook University.\"\n",
    "       ]\n",
    "vectorizer = TfidfVectorizer()\n",
    "\n",
    "#tokenize and build vocab\n",
    "vectorizer.fit(text)\n",
    "tfidf_matrix = vectorizer.fit_transform(text)\n",
    "\n",
    "#summarize\n",
    "print(vectorizer.vocabulary_)\n",
    "print(vectorizer.idf_)\n",
    "\n",
    "#comp[uite and print the cosine similarity matrix\n",
    "cosine_sim = cosine_similarity(tfidf_matrix, tfidf_matrix)\n",
    "print(\"This is cosine similarity matrix\")\n",
    "print(cosine_sim)"
   ]
  },
  {
   "cell_type": "code",
   "execution_count": 14,
   "id": "1d2be862",
   "metadata": {
    "ExecuteTime": {
     "end_time": "2021-10-14T14:11:29.851175Z",
     "start_time": "2021-10-14T14:11:29.841746Z"
    }
   },
   "outputs": [
    {
     "name": "stdout",
     "output_type": "stream",
     "text": [
      "summarize\n",
      "{'단국대학교는': 0, '용인시': 4, '죽전에': 7, '있다': 5, '단국대학교에는': 1, '소프트웨어를': 3, '전공하는': 6, '학생들이': 8, '복수전공하는': 2}\n",
      "[1.69314718 1.28768207 1.69314718 1.28768207 1.69314718 1.\n",
      " 1.69314718 1.69314718 1.28768207]\n",
      "\n",
      "This is cosine similarity matrix\n",
      "[[1.         0.10854384 0.10854384]\n",
      " [0.10854384 1.         0.67574849]\n",
      " [0.10854384 0.67574849 1.        ]]\n"
     ]
    }
   ],
   "source": [
    "#list of text documents\n",
    "text = [\"단국대학교는 용인시 죽전에 있다.\"\n",
    "       ,\"단국대학교에는 소프트웨어를 전공하는 학생들이 있다.\",\n",
    "       \"단국대학교에는 소프트웨어를 복수전공하는 학생들이 있다.\"]\n",
    "#tf-idf vectorizering\n",
    "vectorizer = TfidfVectorizer()\n",
    "\n",
    "#tokenize and build vocab\n",
    "vectorizer.fit(text)\n",
    "tfidf_matrix = vectorizer.fit_transform(text)\n",
    "\n",
    "#summarize\n",
    "print(\"summarize\")\n",
    "print(vectorizer.vocabulary_)\n",
    "print(vectorizer.idf_)\n",
    "\n",
    "#compute and print the cosine similarity matrix\n",
    "cosine_sim = cosine_similarity(tfidf_matrix, tfidf_matrix)\n",
    "print(\"\\nThis is cosine similarity matrix\")\n",
    "print(cosine_sim)"
   ]
  }
 ],
 "metadata": {
  "hide_input": false,
  "kernelspec": {
   "display_name": "Python 3 (ipykernel)",
   "language": "python",
   "name": "python3"
  },
  "language_info": {
   "codemirror_mode": {
    "name": "ipython",
    "version": 3
   },
   "file_extension": ".py",
   "mimetype": "text/x-python",
   "name": "python",
   "nbconvert_exporter": "python",
   "pygments_lexer": "ipython3",
   "version": "3.8.8"
  },
  "varInspector": {
   "cols": {
    "lenName": 16,
    "lenType": 16,
    "lenVar": 40
   },
   "kernels_config": {
    "python": {
     "delete_cmd_postfix": "",
     "delete_cmd_prefix": "del ",
     "library": "var_list.py",
     "varRefreshCmd": "print(var_dic_list())"
    },
    "r": {
     "delete_cmd_postfix": ") ",
     "delete_cmd_prefix": "rm(",
     "library": "var_list.r",
     "varRefreshCmd": "cat(var_dic_list()) "
    }
   },
   "types_to_exclude": [
    "module",
    "function",
    "builtin_function_or_method",
    "instance",
    "_Feature"
   ],
   "window_display": false
  }
 },
 "nbformat": 4,
 "nbformat_minor": 5
}
