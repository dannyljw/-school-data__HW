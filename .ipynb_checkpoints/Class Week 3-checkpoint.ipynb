{
 "cells": [
  {
   "cell_type": "code",
   "execution_count": 5,
   "id": "02b3f3cc",
   "metadata": {
    "ExecuteTime": {
     "end_time": "2021-10-08T14:36:10.576695Z",
     "start_time": "2021-10-08T14:36:10.565911Z"
    }
   },
   "outputs": [
    {
     "name": "stdout",
     "output_type": "stream",
     "text": [
      "['apple', 'banana', 'everyone', 'like', 'likey', 'watch', 'card', 'play']\n",
      "['apple', 'banana', 'I', 'eat', 'like']\n",
      "Similarity between x and y is 0.25 \n",
      " Similairty between x and z is 0.5 \n",
      "Similarity between x and z is  0.0\n",
      "similarity between doc1 and doc2 is  0.3\n"
     ]
    }
   ],
   "source": [
    "import numpy as np \n",
    "from sklearn.metrics import jaccard_score\n",
    "\n",
    "def jaccardSIM(x,y):\n",
    "    intersection = len(list(set(x).intersection((set(y)))))\n",
    "    union = len(list(set(x).union((set(y)))))\n",
    "    return intersection/union\n",
    "\n",
    "x = [0,1,0,0,0,1,0,0,1]\n",
    "y = [0,0,1,0,0,0,0,0,1]\n",
    "z = [1,1,0,0,0,1,0,0,0]\n",
    "\n",
    "doc1 = \"apple banana everyone like likey watch card play\"\n",
    "doc2 = \"apple banana I eat like\"\n",
    "\n",
    "tokenized_doc1 = doc1.split()\n",
    "tokenized_doc2 = doc2.split()\n",
    "\n",
    "print(tokenized_doc1)\n",
    "print(tokenized_doc2)\n",
    "\n",
    "simxy = jaccard_score(x,y)\n",
    "simxz = jaccard_score(x,z)\n",
    "simyz = jaccard_score(y,z)\n",
    "sims = jaccardSIM(tokenized_doc1, tokenized_doc2)\n",
    "\n",
    "print('Similarity between x and y is', simxy, '\\n Similairty between x and z is', simxz,\n",
    "     '\\nSimilarity between x and z is ', simyz)\n",
    "print('similarity between doc1 and doc2 is ', sims)"
   ]
  },
  {
   "cell_type": "code",
   "execution_count": null,
   "id": "8f90781b",
   "metadata": {},
   "outputs": [],
   "source": []
  }
 ],
 "metadata": {
  "hide_input": false,
  "kernelspec": {
   "display_name": "Python 3 (ipykernel)",
   "language": "python",
   "name": "python3"
  },
  "language_info": {
   "codemirror_mode": {
    "name": "ipython",
    "version": 3
   },
   "file_extension": ".py",
   "mimetype": "text/x-python",
   "name": "python",
   "nbconvert_exporter": "python",
   "pygments_lexer": "ipython3",
   "version": "3.8.8"
  },
  "varInspector": {
   "cols": {
    "lenName": 16,
    "lenType": 16,
    "lenVar": 40
   },
   "kernels_config": {
    "python": {
     "delete_cmd_postfix": "",
     "delete_cmd_prefix": "del ",
     "library": "var_list.py",
     "varRefreshCmd": "print(var_dic_list())"
    },
    "r": {
     "delete_cmd_postfix": ") ",
     "delete_cmd_prefix": "rm(",
     "library": "var_list.r",
     "varRefreshCmd": "cat(var_dic_list()) "
    }
   },
   "types_to_exclude": [
    "module",
    "function",
    "builtin_function_or_method",
    "instance",
    "_Feature"
   ],
   "window_display": false
  }
 },
 "nbformat": 4,
 "nbformat_minor": 5
}
